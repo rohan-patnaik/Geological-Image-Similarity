{
 "cells": [
  {
   "cell_type": "code",
   "execution_count": 94,
   "id": "18b7a6b7",
   "metadata": {},
   "outputs": [],
   "source": [
    "import pandas as pd\n",
    "import numpy as np\n",
    "import matplotlib.pyplot as plt\n",
    "%matplotlib inline\n",
    "import seaborn as sns\n",
    "from glob import glob\n",
    "import os"
   ]
  },
  {
   "cell_type": "code",
   "execution_count": 95,
   "id": "940e2542",
   "metadata": {},
   "outputs": [],
   "source": [
    "from tensorflow.keras.layers import Input, Lambda, Flatten, Dense\n",
    "from tensorflow.keras.models import Model, Sequential\n",
    "from tensorflow.keras.preprocessing import image\n",
    "from tensorflow.keras.preprocessing.image import ImageDataGenerator, load_img\n",
    "from tensorflow.keras.applications.inception_v3 import preprocess_input\n",
    "from tensorflow.keras.applications import vgg16, InceptionV3\n",
    "from tensorflow.keras.applications.vgg19 import VGG19\n",
    "from keras.applications.vgg19 import preprocess_input"
   ]
  },
  {
   "cell_type": "code",
   "execution_count": 96,
   "id": "e80c44b3",
   "metadata": {},
   "outputs": [],
   "source": [
    "import random\n",
    "\n",
    "from sklearn.metrics import accuracy_score\n",
    "from sklearn.metrics.pairwise import cosine_similarity\n",
    "from sklearn.model_selection import train_test_split"
   ]
  },
  {
   "cell_type": "code",
   "execution_count": 97,
   "id": "d21f5d4e",
   "metadata": {},
   "outputs": [],
   "source": [
    "# IRO TFA CCFE"
   ]
  },
  {
   "cell_type": "code",
   "execution_count": 98,
   "id": "60370491",
   "metadata": {},
   "outputs": [],
   "source": [
    "IMAGE_SIZE = [224, 224]"
   ]
  },
  {
   "cell_type": "code",
   "execution_count": 99,
   "id": "8d186e6b",
   "metadata": {},
   "outputs": [],
   "source": [
    "vgg19 = VGG19(input_shape = IMAGE_SIZE + [3], weights = 'imagenet', include_top = False)"
   ]
  },
  {
   "cell_type": "code",
   "execution_count": 100,
   "id": "01aa9d83",
   "metadata": {},
   "outputs": [],
   "source": [
    "# dont train the existing weights\n",
    "for layer in vgg19.layers:\n",
    "    layer.trainable = False"
   ]
  },
  {
   "cell_type": "code",
   "execution_count": 101,
   "id": "f8130285",
   "metadata": {},
   "outputs": [
    {
     "data": {
      "text/plain": [
       "['geological_similarity\\\\andesite',\n",
       " 'geological_similarity\\\\gneiss',\n",
       " 'geological_similarity\\\\marble',\n",
       " 'geological_similarity\\\\quartzite',\n",
       " 'geological_similarity\\\\rhyolite',\n",
       " 'geological_similarity\\\\schist']"
      ]
     },
     "execution_count": 101,
     "metadata": {},
     "output_type": "execute_result"
    }
   ],
   "source": [
    "# useful for getting number of output classes\n",
    "folders = glob('geological_similarity/*')\n",
    "folders"
   ]
  },
  {
   "cell_type": "code",
   "execution_count": 102,
   "id": "eed2fd81",
   "metadata": {},
   "outputs": [
    {
     "data": {
      "text/html": [
       "<div>\n",
       "<style scoped>\n",
       "    .dataframe tbody tr th:only-of-type {\n",
       "        vertical-align: middle;\n",
       "    }\n",
       "\n",
       "    .dataframe tbody tr th {\n",
       "        vertical-align: top;\n",
       "    }\n",
       "\n",
       "    .dataframe thead th {\n",
       "        text-align: right;\n",
       "    }\n",
       "</style>\n",
       "<table border=\"1\" class=\"dataframe\">\n",
       "  <thead>\n",
       "    <tr style=\"text-align: right;\">\n",
       "      <th></th>\n",
       "      <th>Image_Path</th>\n",
       "      <th>Labels</th>\n",
       "    </tr>\n",
       "  </thead>\n",
       "  <tbody>\n",
       "    <tr>\n",
       "      <th>0</th>\n",
       "      <td>geological_similarity/andesite/012L6.jpg</td>\n",
       "      <td>andesite</td>\n",
       "    </tr>\n",
       "    <tr>\n",
       "      <th>1</th>\n",
       "      <td>geological_similarity/andesite/01ITR.jpg</td>\n",
       "      <td>andesite</td>\n",
       "    </tr>\n",
       "    <tr>\n",
       "      <th>2</th>\n",
       "      <td>geological_similarity/andesite/01LQQ.jpg</td>\n",
       "      <td>andesite</td>\n",
       "    </tr>\n",
       "    <tr>\n",
       "      <th>3</th>\n",
       "      <td>geological_similarity/andesite/0230P.jpg</td>\n",
       "      <td>andesite</td>\n",
       "    </tr>\n",
       "    <tr>\n",
       "      <th>4</th>\n",
       "      <td>geological_similarity/andesite/02741.jpg</td>\n",
       "      <td>andesite</td>\n",
       "    </tr>\n",
       "    <tr>\n",
       "      <th>...</th>\n",
       "      <td>...</td>\n",
       "      <td>...</td>\n",
       "    </tr>\n",
       "    <tr>\n",
       "      <th>29993</th>\n",
       "      <td>geological_similarity/schist/ZYMEE.jpg</td>\n",
       "      <td>schist</td>\n",
       "    </tr>\n",
       "    <tr>\n",
       "      <th>29994</th>\n",
       "      <td>geological_similarity/schist/ZYRT4.jpg</td>\n",
       "      <td>schist</td>\n",
       "    </tr>\n",
       "    <tr>\n",
       "      <th>29995</th>\n",
       "      <td>geological_similarity/schist/ZZ4TJ.jpg</td>\n",
       "      <td>schist</td>\n",
       "    </tr>\n",
       "    <tr>\n",
       "      <th>29996</th>\n",
       "      <td>geological_similarity/schist/ZZ5Z5.jpg</td>\n",
       "      <td>schist</td>\n",
       "    </tr>\n",
       "    <tr>\n",
       "      <th>29997</th>\n",
       "      <td>geological_similarity/schist/ZZH9O.jpg</td>\n",
       "      <td>schist</td>\n",
       "    </tr>\n",
       "  </tbody>\n",
       "</table>\n",
       "<p>29998 rows × 2 columns</p>\n",
       "</div>"
      ],
      "text/plain": [
       "                                     Image_Path    Labels\n",
       "0      geological_similarity/andesite/012L6.jpg  andesite\n",
       "1      geological_similarity/andesite/01ITR.jpg  andesite\n",
       "2      geological_similarity/andesite/01LQQ.jpg  andesite\n",
       "3      geological_similarity/andesite/0230P.jpg  andesite\n",
       "4      geological_similarity/andesite/02741.jpg  andesite\n",
       "...                                         ...       ...\n",
       "29993    geological_similarity/schist/ZYMEE.jpg    schist\n",
       "29994    geological_similarity/schist/ZYRT4.jpg    schist\n",
       "29995    geological_similarity/schist/ZZ4TJ.jpg    schist\n",
       "29996    geological_similarity/schist/ZZ5Z5.jpg    schist\n",
       "29997    geological_similarity/schist/ZZH9O.jpg    schist\n",
       "\n",
       "[29998 rows x 2 columns]"
      ]
     },
     "execution_count": 102,
     "metadata": {},
     "output_type": "execute_result"
    }
   ],
   "source": [
    "# Converting images to dataframe to process it\n",
    "def data_prep(andesite, gneiss, marble, quartzite, rhyolite, schist):\n",
    "\n",
    "    andesite = [\"geological_similarity/andesite\" + '/' +  a for a in andesite]\n",
    "    gneiss = [\"geological_similarity/gneiss\" + '/' +  b for b in gneiss]\n",
    "    marble = [\"geological_similarity/marble\" + '/' +  c for c in marble]\n",
    "    quartzite = [\"geological_similarity/quartzite\" + '/' +  d for d in quartzite]\n",
    "    rhyolite = [\"geological_similarity/rhyolite\" + '/' +  e for e in rhyolite]\n",
    "    schist = [\"geological_similarity/schist\" + '/' +  f for f in schist]\n",
    "\n",
    "    labels = len(andesite)*['andesite'] + len(gneiss)*['gneiss'] + len(marble)*['marble'] + len(quartzite)*['quartzite'] + len(rhyolite)*['rhyolite'] + len(schist)*['schist']\n",
    "    data = andesite + gneiss + marble + quartzite + rhyolite + schist\n",
    "\n",
    "    return pd.DataFrame({'Image_Path': data , 'Labels': labels})\n",
    "\n",
    "\n",
    "df = data_prep(os.listdir('geological_similarity/andesite/'), os.listdir('geological_similarity/gneiss/'), os.listdir('geological_similarity/marble/'), os.listdir('geological_similarity/quartzite/'), os.listdir('geological_similarity/rhyolite/'), os.listdir('geological_similarity/schist/'))\n",
    "df"
   ]
  },
  {
   "cell_type": "code",
   "execution_count": 103,
   "id": "ab2390e7",
   "metadata": {},
   "outputs": [
    {
     "data": {
      "text/plain": [
       "Text(0.5, 1.0, 'Distribution of samples according to the categories')"
      ]
     },
     "execution_count": 103,
     "metadata": {},
     "output_type": "execute_result"
    },
    {
     "data": {
      "image/png": "[encoded data removed]",
      "text/plain": [
       "<Figure size 432x288 with 1 Axes>"
      ]
     },
     "metadata": {
      "needs_background": "light"
     },
     "output_type": "display_data"
    }
   ],
   "source": [
    "df['Labels'].value_counts().plot(kind = 'bar', color = ['red', 'green', 'yellow', 'grey', 'blue'])\n",
    "plt.title('Distribution of samples according to the categories')"
   ]
  },
  {
   "cell_type": "code",
   "execution_count": 104,
   "id": "52cb3a69",
   "metadata": {},
   "outputs": [],
   "source": [
    "from sklearn.model_selection import train_test_split\n",
    "train, test = train_test_split(df, test_size=0.2, random_state=1)"
   ]
  },
  {
   "cell_type": "code",
   "execution_count": 105,
   "id": "5560eaf8",
   "metadata": {},
   "outputs": [
    {
     "data": {
      "text/plain": [
       "(6000, 2)"
      ]
     },
     "execution_count": 105,
     "metadata": {},
     "output_type": "execute_result"
    }
   ],
   "source": [
    "test.shape"
   ]
  },
  {
   "cell_type": "code",
   "execution_count": 106,
   "id": "1c285b3b",
   "metadata": {},
   "outputs": [],
   "source": [
    "# Time for data augmentation\n",
    "\n",
    "train_datagen = ImageDataGenerator(rescale = 1./255,\n",
    "                                   shear_range = 0.2,\n",
    "                                   zoom_range = 0.2,\n",
    "                                   horizontal_flip = True)\n",
    "\n",
    "test_datagen = ImageDataGenerator(rescale = 1./255)"
   ]
  },
  {
   "cell_type": "code",
   "execution_count": 107,
   "id": "e225343e",
   "metadata": {},
   "outputs": [
    {
     "name": "stdout",
     "output_type": "stream",
     "text": [
      "Found 23998 validated image filenames belonging to 6 classes.\n",
      "Found 6000 validated image filenames belonging to 6 classes.\n"
     ]
    },
    {
     "data": {
      "text/plain": [
       "(2400, 600)"
      ]
     },
     "execution_count": 107,
     "metadata": {},
     "output_type": "execute_result"
    }
   ],
   "source": [
    "x_train =  train_datagen.flow_from_dataframe(dataframe = train,  x_col='Image_Path', y_col='Labels',  class_mode='categorical',target_size=(224,224), shuffle=False, batch_size=10, seed=10)\n",
    "x_test = test_datagen.flow_from_dataframe(dataframe = test,  x_col='Image_Path', y_col='Labels',class_mode='categorical',  target_size=(224,224), shuffle=False, batch_size=10, seed=10)\n",
    "len(x_train), len(x_test)"
   ]
  },
  {
   "cell_type": "code",
   "execution_count": 108,
   "id": "7f314000",
   "metadata": {},
   "outputs": [],
   "source": [
    "# Lets make the CNN for this\n",
    "# Create CNN\n",
    "\n",
    "import tensorflow as tf\n",
    "model = tf.keras.Sequential(\n",
    "        [\n",
    "          tf.keras.layers.Conv2D(kernel_size=(3,3), input_shape=(224,224,3) ,filters=32, activation='relu', padding='same'),\n",
    "          tf.keras.layers.MaxPool2D(pool_size=(2,2)),\n",
    "\n",
    "          tf.keras.layers.Conv2D(kernel_size=(3,3), input_shape=(224,224,3) ,filters=32, activation='relu', padding='same'),\n",
    "          tf.keras.layers.MaxPool2D(pool_size=(2,2)),\n",
    "\n",
    "          tf.keras.layers.Conv2D(kernel_size=(3,3), input_shape=(224,224,3) ,filters=32, activation='relu', padding='same'),\n",
    "          tf.keras.layers.MaxPool2D(pool_size=(2,2)),\n",
    "\n",
    "          tf.keras.layers.Conv2D(kernel_size=(3,3), input_shape=(224,224,3) ,filters=64, activation='relu', padding='same'),\n",
    "          tf.keras.layers.MaxPool2D(pool_size=(2,2)),\n",
    "\n",
    "          tf.keras.layers.Flatten(),\n",
    "          tf.keras.layers.Dense(128, activation='relu'),\n",
    "          tf.keras.layers.Dropout(rate=0.5),\n",
    "          tf.keras.layers.Dense(6, activation='sigmoid')\n",
    "  ])"
   ]
  },
  {
   "cell_type": "code",
   "execution_count": 109,
   "id": "0bbdfd9b",
   "metadata": {},
   "outputs": [],
   "source": [
    "model.compile(optimizer=tf.keras.optimizers.Adam(),\n",
    "              loss='categorical_crossentropy',\n",
    "              metrics=['accuracy'])"
   ]
  },
  {
   "cell_type": "code",
   "execution_count": 110,
   "id": "d702d764",
   "metadata": {},
   "outputs": [
    {
     "name": "stderr",
     "output_type": "stream",
     "text": [
      "C:\\Users\\rohan\\anaconda3\\lib\\site-packages\\tensorflow\\python\\keras\\engine\\training.py:1940: UserWarning: `Model.fit_generator` is deprecated and will be removed in a future version. Please use `Model.fit`, which supports generators.\n",
      "  warnings.warn('`Model.fit_generator` is deprecated and '\n"
     ]
    },
    {
     "name": "stdout",
     "output_type": "stream",
     "text": [
      "100/100 [==============================] - 11s 105ms/step - loss: 1.3753 - accuracy: 0.4040 - val_loss: 0.7395 - val_accuracy: 0.6450\n"
     ]
    }
   ],
   "source": [
    "model_history = model.fit_generator(generator = x_train, \n",
    "                   steps_per_epoch = 100,\n",
    "                   epochs = 1 ,\n",
    "                   validation_data = x_test,\n",
    "                   validation_steps = 100)\n"
   ]
  },
  {
   "cell_type": "code",
   "execution_count": 111,
   "id": "efcaabaf",
   "metadata": {},
   "outputs": [
    {
     "name": "stdout",
     "output_type": "stream",
     "text": [
      "Model: \"sequential_1\"\n",
      "_________________________________________________________________\n",
      "Layer (type)                 Output Shape              Param #   \n",
      "=================================================================\n",
      "conv2d_4 (Conv2D)            (None, 224, 224, 32)      896       \n",
      "_________________________________________________________________\n",
      "max_pooling2d_4 (MaxPooling2 (None, 112, 112, 32)      0         \n",
      "_________________________________________________________________\n",
      "conv2d_5 (Conv2D)            (None, 112, 112, 32)      9248      \n",
      "_________________________________________________________________\n",
      "max_pooling2d_5 (MaxPooling2 (None, 56, 56, 32)        0         \n",
      "_________________________________________________________________\n",
      "conv2d_6 (Conv2D)            (None, 56, 56, 32)        9248      \n",
      "_________________________________________________________________\n",
      "max_pooling2d_6 (MaxPooling2 (None, 28, 28, 32)        0         \n",
      "_________________________________________________________________\n",
      "conv2d_7 (Conv2D)            (None, 28, 28, 64)        18496     \n",
      "_________________________________________________________________\n",
      "max_pooling2d_7 (MaxPooling2 (None, 14, 14, 64)        0         \n",
      "_________________________________________________________________\n",
      "flatten_1 (Flatten)          (None, 12544)             0         \n",
      "_________________________________________________________________\n",
      "dense_2 (Dense)              (None, 128)               1605760   \n",
      "_________________________________________________________________\n",
      "dropout_1 (Dropout)          (None, 128)               0         \n",
      "_________________________________________________________________\n",
      "dense_3 (Dense)              (None, 6)                 774       \n",
      "=================================================================\n",
      "Total params: 1,644,422\n",
      "Trainable params: 1,644,422\n",
      "Non-trainable params: 0\n",
      "_________________________________________________________________\n"
     ]
    }
   ],
   "source": [
    "model.summary()"
   ]
  },
  {
   "cell_type": "code",
   "execution_count": 112,
   "id": "9384351a",
   "metadata": {},
   "outputs": [
    {
     "data": {
      "image/png": "[encoded data removed]",
      "text/plain": [
       "<Figure size 1080x504 with 2 Axes>"
      ]
     },
     "metadata": {
      "needs_background": "light"
     },
     "output_type": "display_data"
    }
   ],
   "source": [
    "\n",
    "accuracy = model_history.history['accuracy']\n",
    "loss = model_history.history['loss']\n",
    "validation_loss = model_history.history['val_loss']\n",
    "validation_accuracy = model_history.history['val_accuracy']\n",
    "\n",
    "\n",
    "\n",
    "plt.figure(figsize=(15, 7))\n",
    "plt.subplot(2, 2, 1)\n",
    "plt.plot(range(len(accuracy)), accuracy, label='Training Accuracy')\n",
    "plt.plot(range(len(accuracy)), validation_accuracy, label='Validation Accuracy')\n",
    "plt.legend(loc='upper left')\n",
    "plt.title('Accuracy : Training Vs Validation ')\n",
    "\n",
    "\n",
    "\n",
    "plt.subplot(2, 2, 2)\n",
    "plt.plot(range(len(accuracy)), loss, label='Training Loss')\n",
    "plt.plot(range(len(accuracy)), validation_loss, label='Validation Loss')\n",
    "plt.title('Loss : Training Vs Validation ')\n",
    "plt.legend(loc='upper right')\n",
    "plt.show()\n"
   ]
  },
  {
   "cell_type": "code",
   "execution_count": 113,
   "id": "e339fa61",
   "metadata": {},
   "outputs": [],
   "source": [
    "# Image embedding\n",
    "# def get_embedding(file, model):\n",
    "#     image = mpimg.imread(file)\n",
    "#     image = test_transform(image)\n",
    "#     image = image.unsqueeze(0)\n",
    "#     model.eval()\n",
    "#     with torch.no_grad():\n",
    "#         emb, _ = model(image)\n",
    "#     return emb.numpy()"
   ]
  },
  {
   "cell_type": "code",
   "execution_count": 114,
   "id": "ff629f05",
   "metadata": {},
   "outputs": [
    {
     "data": {
      "image/png": "[encoded data removed]",
      "text/plain": [
       "<PIL.Image.Image image mode=RGB size=224x224 at 0x1FB47891370>"
      ]
     },
     "execution_count": 114,
     "metadata": {},
     "output_type": "execute_result"
    }
   ],
   "source": [
    "from tensorflow.keras.preprocessing import image\n",
    "img1=image.load_img('../Geological Similarity Amazon/geological_similarity/gneiss/01RNW.jpg',target_size=(224,224,3))\n",
    "img2=image.load_img('../Geological Similarity Amazon/geological_similarity/gneiss/0THX1.jpg',target_size=(224,224,3))\n",
    "img1 "
   ]
  },
  {
   "cell_type": "code",
   "execution_count": 115,
   "id": "d2049616",
   "metadata": {},
   "outputs": [
    {
     "data": {
      "text/plain": [
       "(50176, 3)"
      ]
     },
     "execution_count": 115,
     "metadata": {},
     "output_type": "execute_result"
    }
   ],
   "source": [
    "image.img_to_array(img2).reshape(50176, 3).shape"
   ]
  },
  {
   "cell_type": "code",
   "execution_count": 116,
   "id": "0d1696eb",
   "metadata": {},
   "outputs": [
    {
     "data": {
      "text/plain": [
       "array([0.8944272], dtype=float32)"
      ]
     },
     "execution_count": 116,
     "metadata": {},
     "output_type": "execute_result"
    }
   ],
   "source": [
    "sim = cosine_similarity(\n",
    "    model.predict(preprocess_input(np.expand_dims(image.img_to_array(img1), axis=0))),\n",
    "    model.predict(preprocess_input(np.expand_dims(image.img_to_array(img2), axis=0)))\n",
    ")\n",
    "sim[0]"
   ]
  },
  {
   "cell_type": "code",
   "execution_count": 117,
   "id": "eb5cb080",
   "metadata": {},
   "outputs": [
    {
     "data": {
      "text/plain": [
       "0    geological_similarity/andesite/012L6.jpg\n",
       "1    geological_similarity/andesite/01ITR.jpg\n",
       "2    geological_similarity/andesite/01LQQ.jpg\n",
       "3    geological_similarity/andesite/0230P.jpg\n",
       "4    geological_similarity/andesite/02741.jpg\n",
       "Name: Image_Path, dtype: object"
      ]
     },
     "execution_count": 117,
     "metadata": {},
     "output_type": "execute_result"
    }
   ],
   "source": [
    "df['Image_Path'][:5]"
   ]
  },
  {
   "cell_type": "code",
   "execution_count": 257,
   "id": "c2e1d159",
   "metadata": {},
   "outputs": [
    {
     "data": {
      "text/plain": [
       "10"
      ]
     },
     "execution_count": 257,
     "metadata": {},
     "output_type": "execute_result"
    }
   ],
   "source": [
    "imagess = []\n",
    "for img in df['Image_Path'][:10]:\n",
    "\n",
    "    imgx = image.load_img('../Geological Similarity Amazon/' + img,target_size=(224,224,3))\n",
    "    \n",
    "    similarities = cosine_similarity(model.predict(preprocess_input(np.expand_dims(image.img_to_array(img1), axis=0))), model.predict(preprocess_input(np.expand_dims(image.img_to_array(imgx), axis=0))))\n",
    "    imagess.append(similarities)\n",
    "#     break\n",
    "len(imagess)"
   ]
  },
  {
   "cell_type": "code",
   "execution_count": 258,
   "id": "49d04020",
   "metadata": {},
   "outputs": [
    {
     "name": "stderr",
     "output_type": "stream",
     "text": [
      "<ipython-input-258-9b28ec7a857b>:2: SettingWithCopyWarning: \n",
      "A value is trying to be set on a copy of a slice from a DataFrame.\n",
      "Try using .loc[row_indexer,col_indexer] = value instead\n",
      "\n",
      "See the caveats in the documentation: https://pandas.pydata.org/pandas-docs/stable/user_guide/indexing.html#returning-a-view-versus-a-copy\n",
      "  df1['Similarity'] = imagess\n",
      "<ipython-input-258-9b28ec7a857b>:3: SettingWithCopyWarning: \n",
      "A value is trying to be set on a copy of a slice from a DataFrame.\n",
      "Try using .loc[row_indexer,col_indexer] = value instead\n",
      "\n",
      "See the caveats in the documentation: https://pandas.pydata.org/pandas-docs/stable/user_guide/indexing.html#returning-a-view-versus-a-copy\n",
      "  df1['Similarity'] = df1['Similarity'].astype(float)\n"
     ]
    },
    {
     "data": {
      "text/plain": [
       "6"
      ]
     },
     "execution_count": 258,
     "metadata": {},
     "output_type": "execute_result"
    }
   ],
   "source": [
    "df1 = df.head(10)\n",
    "df1['Similarity'] = imagess\n",
    "df1['Similarity'] = df1['Similarity'].astype(float)\n",
    "df1['Similarity'].idxmax()"
   ]
  },
  {
   "cell_type": "code",
   "execution_count": 259,
   "id": "e8158497",
   "metadata": {},
   "outputs": [
    {
     "data": {
      "text/html": [
       "<div>\n",
       "<style scoped>\n",
       "    .dataframe tbody tr th:only-of-type {\n",
       "        vertical-align: middle;\n",
       "    }\n",
       "\n",
       "    .dataframe tbody tr th {\n",
       "        vertical-align: top;\n",
       "    }\n",
       "\n",
       "    .dataframe thead th {\n",
       "        text-align: right;\n",
       "    }\n",
       "</style>\n",
       "<table border=\"1\" class=\"dataframe\">\n",
       "  <thead>\n",
       "    <tr style=\"text-align: right;\">\n",
       "      <th></th>\n",
       "      <th>Image_Path</th>\n",
       "      <th>Labels</th>\n",
       "      <th>Similarity</th>\n",
       "    </tr>\n",
       "  </thead>\n",
       "  <tbody>\n",
       "    <tr>\n",
       "      <th>6</th>\n",
       "      <td>geological_similarity/andesite/02UT8.jpg</td>\n",
       "      <td>andesite</td>\n",
       "      <td>0.902393</td>\n",
       "    </tr>\n",
       "    <tr>\n",
       "      <th>0</th>\n",
       "      <td>geological_similarity/andesite/012L6.jpg</td>\n",
       "      <td>andesite</td>\n",
       "      <td>0.894427</td>\n",
       "    </tr>\n",
       "    <tr>\n",
       "      <th>2</th>\n",
       "      <td>geological_similarity/andesite/01LQQ.jpg</td>\n",
       "      <td>andesite</td>\n",
       "      <td>0.894427</td>\n",
       "    </tr>\n",
       "    <tr>\n",
       "      <th>3</th>\n",
       "      <td>geological_similarity/andesite/0230P.jpg</td>\n",
       "      <td>andesite</td>\n",
       "      <td>0.894427</td>\n",
       "    </tr>\n",
       "    <tr>\n",
       "      <th>5</th>\n",
       "      <td>geological_similarity/andesite/02Q0N.jpg</td>\n",
       "      <td>andesite</td>\n",
       "      <td>0.894427</td>\n",
       "    </tr>\n",
       "    <tr>\n",
       "      <th>7</th>\n",
       "      <td>geological_similarity/andesite/02V0N.jpg</td>\n",
       "      <td>andesite</td>\n",
       "      <td>0.894427</td>\n",
       "    </tr>\n",
       "    <tr>\n",
       "      <th>8</th>\n",
       "      <td>geological_similarity/andesite/031XF.jpg</td>\n",
       "      <td>andesite</td>\n",
       "      <td>0.894427</td>\n",
       "    </tr>\n",
       "    <tr>\n",
       "      <th>9</th>\n",
       "      <td>geological_similarity/andesite/03GPU.jpg</td>\n",
       "      <td>andesite</td>\n",
       "      <td>0.894427</td>\n",
       "    </tr>\n",
       "    <tr>\n",
       "      <th>1</th>\n",
       "      <td>geological_similarity/andesite/01ITR.jpg</td>\n",
       "      <td>andesite</td>\n",
       "      <td>0.774597</td>\n",
       "    </tr>\n",
       "    <tr>\n",
       "      <th>4</th>\n",
       "      <td>geological_similarity/andesite/02741.jpg</td>\n",
       "      <td>andesite</td>\n",
       "      <td>0.774597</td>\n",
       "    </tr>\n",
       "  </tbody>\n",
       "</table>\n",
       "</div>"
      ],
      "text/plain": [
       "                                 Image_Path    Labels  Similarity\n",
       "6  geological_similarity/andesite/02UT8.jpg  andesite    0.902393\n",
       "0  geological_similarity/andesite/012L6.jpg  andesite    0.894427\n",
       "2  geological_similarity/andesite/01LQQ.jpg  andesite    0.894427\n",
       "3  geological_similarity/andesite/0230P.jpg  andesite    0.894427\n",
       "5  geological_similarity/andesite/02Q0N.jpg  andesite    0.894427\n",
       "7  geological_similarity/andesite/02V0N.jpg  andesite    0.894427\n",
       "8  geological_similarity/andesite/031XF.jpg  andesite    0.894427\n",
       "9  geological_similarity/andesite/03GPU.jpg  andesite    0.894427\n",
       "1  geological_similarity/andesite/01ITR.jpg  andesite    0.774597\n",
       "4  geological_similarity/andesite/02741.jpg  andesite    0.774597"
      ]
     },
     "execution_count": 259,
     "metadata": {},
     "output_type": "execute_result"
    }
   ],
   "source": [
    "df1 = df1.sort_values('Similarity', ascending=False)\n",
    "df1"
   ]
  },
  {
   "cell_type": "code",
   "execution_count": 264,
   "id": "1e19f785",
   "metadata": {},
   "outputs": [
    {
     "ename": "SyntaxError",
     "evalue": "unexpected EOF while parsing (<ipython-input-264-d3ce082b5fd3>, line 2)",
     "output_type": "error",
     "traceback": [
      "\u001b[1;36m  File \u001b[1;32m\"<ipython-input-264-d3ce082b5fd3>\"\u001b[1;36m, line \u001b[1;32m2\u001b[0m\n\u001b[1;33m    #     df1['Image_Path'][i]\u001b[0m\n\u001b[1;37m                              ^\u001b[0m\n\u001b[1;31mSyntaxError\u001b[0m\u001b[1;31m:\u001b[0m unexpected EOF while parsing\n"
     ]
    }
   ],
   "source": [
    "for i in df1['Image_Path'][:5]:\n",
    "    df1['Image_Path'][i]"
   ]
  },
  {
   "cell_type": "code",
   "execution_count": 242,
   "id": "4aa724fd",
   "metadata": {},
   "outputs": [
    {
     "data": {
      "text/plain": [
       "'geological_similarity/andesite/02UT8.jpg'"
      ]
     },
     "execution_count": 242,
     "metadata": {},
     "output_type": "execute_result"
    }
   ],
   "source": [
    "df1['Image_Path'][df1['Similarity'].idxmax()]"
   ]
  },
  {
   "cell_type": "code",
   "execution_count": 244,
   "id": "2dff3768",
   "metadata": {},
   "outputs": [
    {
     "data": {
      "image/png": "[encoded data removed]",
      "text/plain": [
       "<PIL.Image.Image image mode=RGB size=224x224 at 0x1FB30F65670>"
      ]
     },
     "execution_count": 244,
     "metadata": {},
     "output_type": "execute_result"
    }
   ],
   "source": [
    "show_img = image.load_img('../Geological Similarity Amazon/' + df1['Image_Path'][df1['Similarity'].idxmax()],target_size=(224,224,3))\n",
    "show_img"
   ]
  }
 ],
 "metadata": {
  "kernelspec": {
   "display_name": "Python 3",
   "language": "python",
   "name": "python3"
  },
  "language_info": {
   "codemirror_mode": {
    "name": "ipython",
    "version": 3
   },
   "file_extension": ".py",
   "mimetype": "text/x-python",
   "name": "python",
   "nbconvert_exporter": "python",
   "pygments_lexer": "ipython3",
   "version": "3.8.8"
  }
 },
 "nbformat": 4,
 "nbformat_minor": 5
}
