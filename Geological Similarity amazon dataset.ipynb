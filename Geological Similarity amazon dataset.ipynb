{
 "cells": [
  {
   "cell_type": "code",
   "execution_count": 1,
   "id": "18b7a6b7",
   "metadata": {},
   "outputs": [],
   "source": [
    "import pandas as pd\n",
    "import numpy as np\n",
    "import matplotlib.pyplot as plt\n",
    "%matplotlib inline\n",
    "import seaborn as sns\n",
    "from glob import glob\n",
    "import os"
   ]
  },
  {
   "cell_type": "code",
   "execution_count": 2,
   "id": "940e2542",
   "metadata": {},
   "outputs": [],
   "source": [
    "from tensorflow.keras.layers import Input, Lambda, Flatten, Dense\n",
    "from tensorflow.keras.models import Model, Sequential\n",
    "from tensorflow.keras.preprocessing import image\n",
    "from tensorflow.keras.preprocessing.image import ImageDataGenerator, load_img\n",
    "from tensorflow.keras.applications.inception_v3 import preprocess_input\n",
    "from tensorflow.keras.applications import vgg16, InceptionV3\n",
    "from tensorflow.keras.applications.vgg19 import VGG19\n",
    "from keras.applications.vgg19 import preprocess_input"
   ]
  },
  {
   "cell_type": "code",
   "execution_count": 3,
   "id": "e80c44b3",
   "metadata": {},
   "outputs": [],
   "source": [
    "import random\n",
    "\n",
    "from sklearn.metrics import accuracy_score\n",
    "from sklearn.metrics.pairwise import cosine_similarity\n",
    "from sklearn.model_selection import train_test_split"
   ]
  },
  {
   "cell_type": "code",
   "execution_count": 4,
   "id": "d21f5d4e",
   "metadata": {},
   "outputs": [],
   "source": [
    "# IRO TFA CCFE"
   ]
  },
  {
   "cell_type": "code",
   "execution_count": 5,
   "id": "60370491",
   "metadata": {},
   "outputs": [],
   "source": [
    "IMAGE_SIZE = [224, 224]"
   ]
  },
  {
   "cell_type": "code",
   "execution_count": 6,
   "id": "8d186e6b",
   "metadata": {},
   "outputs": [],
   "source": [
    "vgg19 = VGG19(input_shape = IMAGE_SIZE + [3], weights = 'imagenet', include_top = False)"
   ]
  },
  {
   "cell_type": "code",
   "execution_count": 7,
   "id": "01aa9d83",
   "metadata": {},
   "outputs": [],
   "source": [
    "# dont train the existing weights\n",
    "for layer in vgg19.layers:\n",
    "    layer.trainable = False"
   ]
  },
  {
   "cell_type": "code",
   "execution_count": 8,
   "id": "f8130285",
   "metadata": {},
   "outputs": [
    {
     "data": {
      "text/plain": [
       "['geological_similarity\\\\andesite',\n",
       " 'geological_similarity\\\\gneiss',\n",
       " 'geological_similarity\\\\marble',\n",
       " 'geological_similarity\\\\quartzite',\n",
       " 'geological_similarity\\\\rhyolite',\n",
       " 'geological_similarity\\\\schist']"
      ]
     },
     "execution_count": 8,
     "metadata": {},
     "output_type": "execute_result"
    }
   ],
   "source": [
    "# useful for getting number of output classes\n",
    "folders = glob('geological_similarity/*')\n",
    "folders"
   ]
  },
  {
   "cell_type": "code",
   "execution_count": 9,
   "id": "eed2fd81",
   "metadata": {},
   "outputs": [
    {
     "data": {
      "text/html": [
       "<div>\n",
       "<style scoped>\n",
       "    .dataframe tbody tr th:only-of-type {\n",
       "        vertical-align: middle;\n",
       "    }\n",
       "\n",
       "    .dataframe tbody tr th {\n",
       "        vertical-align: top;\n",
       "    }\n",
       "\n",
       "    .dataframe thead th {\n",
       "        text-align: right;\n",
       "    }\n",
       "</style>\n",
       "<table border=\"1\" class=\"dataframe\">\n",
       "  <thead>\n",
       "    <tr style=\"text-align: right;\">\n",
       "      <th></th>\n",
       "      <th>Image_Path</th>\n",
       "      <th>Labels</th>\n",
       "    </tr>\n",
       "  </thead>\n",
       "  <tbody>\n",
       "    <tr>\n",
       "      <th>0</th>\n",
       "      <td>geological_similarity/andesite/012L6.jpg</td>\n",
       "      <td>andesite</td>\n",
       "    </tr>\n",
       "    <tr>\n",
       "      <th>1</th>\n",
       "      <td>geological_similarity/andesite/01ITR.jpg</td>\n",
       "      <td>andesite</td>\n",
       "    </tr>\n",
       "    <tr>\n",
       "      <th>2</th>\n",
       "      <td>geological_similarity/andesite/01LQQ.jpg</td>\n",
       "      <td>andesite</td>\n",
       "    </tr>\n",
       "    <tr>\n",
       "      <th>3</th>\n",
       "      <td>geological_similarity/andesite/0230P.jpg</td>\n",
       "      <td>andesite</td>\n",
       "    </tr>\n",
       "    <tr>\n",
       "      <th>4</th>\n",
       "      <td>geological_similarity/andesite/02741.jpg</td>\n",
       "      <td>andesite</td>\n",
       "    </tr>\n",
       "    <tr>\n",
       "      <th>...</th>\n",
       "      <td>...</td>\n",
       "      <td>...</td>\n",
       "    </tr>\n",
       "    <tr>\n",
       "      <th>29993</th>\n",
       "      <td>geological_similarity/schist/ZYMEE.jpg</td>\n",
       "      <td>schist</td>\n",
       "    </tr>\n",
       "    <tr>\n",
       "      <th>29994</th>\n",
       "      <td>geological_similarity/schist/ZYRT4.jpg</td>\n",
       "      <td>schist</td>\n",
       "    </tr>\n",
       "    <tr>\n",
       "      <th>29995</th>\n",
       "      <td>geological_similarity/schist/ZZ4TJ.jpg</td>\n",
       "      <td>schist</td>\n",
       "    </tr>\n",
       "    <tr>\n",
       "      <th>29996</th>\n",
       "      <td>geological_similarity/schist/ZZ5Z5.jpg</td>\n",
       "      <td>schist</td>\n",
       "    </tr>\n",
       "    <tr>\n",
       "      <th>29997</th>\n",
       "      <td>geological_similarity/schist/ZZH9O.jpg</td>\n",
       "      <td>schist</td>\n",
       "    </tr>\n",
       "  </tbody>\n",
       "</table>\n",
       "<p>29998 rows × 2 columns</p>\n",
       "</div>"
      ],
      "text/plain": [
       "                                     Image_Path    Labels\n",
       "0      geological_similarity/andesite/012L6.jpg  andesite\n",
       "1      geological_similarity/andesite/01ITR.jpg  andesite\n",
       "2      geological_similarity/andesite/01LQQ.jpg  andesite\n",
       "3      geological_similarity/andesite/0230P.jpg  andesite\n",
       "4      geological_similarity/andesite/02741.jpg  andesite\n",
       "...                                         ...       ...\n",
       "29993    geological_similarity/schist/ZYMEE.jpg    schist\n",
       "29994    geological_similarity/schist/ZYRT4.jpg    schist\n",
       "29995    geological_similarity/schist/ZZ4TJ.jpg    schist\n",
       "29996    geological_similarity/schist/ZZ5Z5.jpg    schist\n",
       "29997    geological_similarity/schist/ZZH9O.jpg    schist\n",
       "\n",
       "[29998 rows x 2 columns]"
      ]
     },
     "execution_count": 9,
     "metadata": {},
     "output_type": "execute_result"
    }
   ],
   "source": [
    "# Converting images to dataframe to process it\n",
    "def data_prep(andesite, gneiss, marble, quartzite, rhyolite, schist):\n",
    "\n",
    "    andesite = [\"geological_similarity/andesite\" + '/' +  a for a in andesite]\n",
    "    gneiss = [\"geological_similarity/gneiss\" + '/' +  b for b in gneiss]\n",
    "    marble = [\"geological_similarity/marble\" + '/' +  c for c in marble]\n",
    "    quartzite = [\"geological_similarity/quartzite\" + '/' +  d for d in quartzite]\n",
    "    rhyolite = [\"geological_similarity/rhyolite\" + '/' +  e for e in rhyolite]\n",
    "    schist = [\"geological_similarity/schist\" + '/' +  f for f in schist]\n",
    "\n",
    "    labels = len(andesite)*['andesite'] + len(gneiss)*['gneiss'] + len(marble)*['marble'] + len(quartzite)*['quartzite'] + len(rhyolite)*['rhyolite'] + len(schist)*['schist']\n",
    "    data = andesite + gneiss + marble + quartzite + rhyolite + schist\n",
    "\n",
    "    return pd.DataFrame({'Image_Path': data , 'Labels': labels})\n",
    "\n",
    "\n",
    "df = data_prep(os.listdir('geological_similarity/andesite/'), os.listdir('geological_similarity/gneiss/'), os.listdir('geological_similarity/marble/'), os.listdir('geological_similarity/quartzite/'), os.listdir('geological_similarity/rhyolite/'), os.listdir('geological_similarity/schist/'))\n",
    "df"
   ]
  },
  {
   "cell_type": "code",
   "execution_count": 10,
   "id": "ab2390e7",
   "metadata": {},
   "outputs": [
    {
     "data": {
      "text/plain": [
       "Text(0.5, 1.0, 'Distribution of samples according to the categories')"
      ]
     },
     "execution_count": 10,
     "metadata": {},
     "output_type": "execute_result"
    },
    {
     "data": {
      "image/png": "[encoded data removed]",
      "text/plain": [
       "<Figure size 432x288 with 1 Axes>"
      ]
     },
     "metadata": {
      "needs_background": "light"
     },
     "output_type": "display_data"
    }
   ],
   "source": [
    "df['Labels'].value_counts().plot(kind = 'bar', color = ['red', 'green', 'yellow', 'grey', 'blue'])\n",
    "plt.title('Distribution of samples according to the categories')"
   ]
  },
  {
   "cell_type": "code",
   "execution_count": 11,
   "id": "52cb3a69",
   "metadata": {},
   "outputs": [],
   "source": [
    "from sklearn.model_selection import train_test_split\n",
    "train, test = train_test_split(df, test_size=0.2, random_state=1)"
   ]
  },
  {
   "cell_type": "code",
   "execution_count": 12,
   "id": "5560eaf8",
   "metadata": {},
   "outputs": [
    {
     "data": {
      "text/plain": [
       "(6000, 2)"
      ]
     },
     "execution_count": 12,
     "metadata": {},
     "output_type": "execute_result"
    }
   ],
   "source": [
    "test.shape"
   ]
  },
  {
   "cell_type": "code",
   "execution_count": 13,
   "id": "1c285b3b",
   "metadata": {},
   "outputs": [],
   "source": [
    "# Time for data augmentation\n",
    "\n",
    "train_datagen = ImageDataGenerator(rescale = 1./255,\n",
    "                                   shear_range = 0.2,\n",
    "                                   zoom_range = 0.2,\n",
    "                                   horizontal_flip = True)\n",
    "\n",
    "test_datagen = ImageDataGenerator(rescale = 1./255)"
   ]
  },
  {
   "cell_type": "code",
   "execution_count": 14,
   "id": "e225343e",
   "metadata": {},
   "outputs": [
    {
     "name": "stdout",
     "output_type": "stream",
     "text": [
      "Found 23998 validated image filenames belonging to 6 classes.\n",
      "Found 6000 validated image filenames belonging to 6 classes.\n"
     ]
    },
    {
     "data": {
      "text/plain": [
       "(2400, 600)"
      ]
     },
     "execution_count": 14,
     "metadata": {},
     "output_type": "execute_result"
    }
   ],
   "source": [
    "x_train =  train_datagen.flow_from_dataframe(dataframe = train,  x_col='Image_Path', y_col='Labels',  class_mode='categorical',target_size=(224,224), shuffle=False, batch_size=10, seed=10)\n",
    "x_test = test_datagen.flow_from_dataframe(dataframe = test,  x_col='Image_Path', y_col='Labels',class_mode='categorical',  target_size=(224,224), shuffle=False, batch_size=10, seed=10)\n",
    "len(x_train), len(x_test)"
   ]
  },
  {
   "cell_type": "code",
   "execution_count": 15,
   "id": "7f314000",
   "metadata": {},
   "outputs": [],
   "source": [
    "# Lets make the CNN for this\n",
    "# Create CNN\n",
    "\n",
    "import tensorflow as tf\n",
    "model = tf.keras.Sequential(\n",
    "        [\n",
    "          tf.keras.layers.Conv2D(kernel_size=(3,3), input_shape=(224,224,3) ,filters=32, activation='relu', padding='same'),\n",
    "          tf.keras.layers.MaxPool2D(pool_size=(2,2)),\n",
    "\n",
    "          tf.keras.layers.Conv2D(kernel_size=(3,3), input_shape=(224,224,3) ,filters=32, activation='relu', padding='same'),\n",
    "          tf.keras.layers.MaxPool2D(pool_size=(2,2)),\n",
    "\n",
    "          tf.keras.layers.Conv2D(kernel_size=(3,3), input_shape=(224,224,3) ,filters=32, activation='relu', padding='same'),\n",
    "          tf.keras.layers.MaxPool2D(pool_size=(2,2)),\n",
    "\n",
    "          tf.keras.layers.Conv2D(kernel_size=(3,3), input_shape=(224,224,3) ,filters=64, activation='relu', padding='same'),\n",
    "          tf.keras.layers.MaxPool2D(pool_size=(2,2)),\n",
    "\n",
    "          tf.keras.layers.Flatten(),\n",
    "          tf.keras.layers.Dense(128, activation='relu'),\n",
    "          tf.keras.layers.Dropout(rate=0.5),\n",
    "          tf.keras.layers.Dense(6, activation='sigmoid')\n",
    "  ])"
   ]
  },
  {
   "cell_type": "code",
   "execution_count": 16,
   "id": "0bbdfd9b",
   "metadata": {},
   "outputs": [],
   "source": [
    "model.compile(optimizer=tf.keras.optimizers.Adam(),\n",
    "              loss='categorical_crossentropy',\n",
    "              metrics=['accuracy'])"
   ]
  },
  {
   "cell_type": "code",
   "execution_count": 17,
   "id": "d702d764",
   "metadata": {},
   "outputs": [
    {
     "name": "stderr",
     "output_type": "stream",
     "text": [
      "C:\\Users\\rohan\\anaconda3\\lib\\site-packages\\tensorflow\\python\\keras\\engine\\training.py:1940: UserWarning: `Model.fit_generator` is deprecated and will be removed in a future version. Please use `Model.fit`, which supports generators.\n",
      "  warnings.warn('`Model.fit_generator` is deprecated and '\n"
     ]
    },
    {
     "name": "stdout",
     "output_type": "stream",
     "text": [
      "Epoch 1/5\n",
      "100/100 [==============================] - 23s 151ms/step - loss: 1.4076 - accuracy: 0.3910 - val_loss: 0.8969 - val_accuracy: 0.5500\n",
      "Epoch 2/5\n",
      "100/100 [==============================] - 12s 115ms/step - loss: 0.8097 - accuracy: 0.6620 - val_loss: 0.6831 - val_accuracy: 0.7090\n",
      "Epoch 3/5\n",
      "100/100 [==============================] - 12s 115ms/step - loss: 0.6029 - accuracy: 0.7640 - val_loss: 0.3105 - val_accuracy: 0.8910\n",
      "Epoch 4/5\n",
      "100/100 [==============================] - 11s 112ms/step - loss: 0.6574 - accuracy: 0.7570 - val_loss: 0.6868 - val_accuracy: 0.7440\n",
      "Epoch 5/5\n",
      "100/100 [==============================] - 11s 109ms/step - loss: 0.5617 - accuracy: 0.8000 - val_loss: 0.3757 - val_accuracy: 0.8490\n"
     ]
    }
   ],
   "source": [
    "model_history = model.fit_generator(generator = x_train, \n",
    "                   steps_per_epoch = 100,\n",
    "                   epochs = 5 ,\n",
    "                   validation_data = x_test,\n",
    "                   validation_steps = 100)\n"
   ]
  },
  {
   "cell_type": "code",
   "execution_count": 18,
   "id": "efcaabaf",
   "metadata": {},
   "outputs": [
    {
     "name": "stdout",
     "output_type": "stream",
     "text": [
      "Model: \"sequential\"\n",
      "_________________________________________________________________\n",
      "Layer (type)                 Output Shape              Param #   \n",
      "=================================================================\n",
      "conv2d (Conv2D)              (None, 224, 224, 32)      896       \n",
      "_________________________________________________________________\n",
      "max_pooling2d (MaxPooling2D) (None, 112, 112, 32)      0         \n",
      "_________________________________________________________________\n",
      "conv2d_1 (Conv2D)            (None, 112, 112, 32)      9248      \n",
      "_________________________________________________________________\n",
      "max_pooling2d_1 (MaxPooling2 (None, 56, 56, 32)        0         \n",
      "_________________________________________________________________\n",
      "conv2d_2 (Conv2D)            (None, 56, 56, 32)        9248      \n",
      "_________________________________________________________________\n",
      "max_pooling2d_2 (MaxPooling2 (None, 28, 28, 32)        0         \n",
      "_________________________________________________________________\n",
      "conv2d_3 (Conv2D)            (None, 28, 28, 64)        18496     \n",
      "_________________________________________________________________\n",
      "max_pooling2d_3 (MaxPooling2 (None, 14, 14, 64)        0         \n",
      "_________________________________________________________________\n",
      "flatten (Flatten)            (None, 12544)             0         \n",
      "_________________________________________________________________\n",
      "dense (Dense)                (None, 128)               1605760   \n",
      "_________________________________________________________________\n",
      "dropout (Dropout)            (None, 128)               0         \n",
      "_________________________________________________________________\n",
      "dense_1 (Dense)              (None, 6)                 774       \n",
      "=================================================================\n",
      "Total params: 1,644,422\n",
      "Trainable params: 1,644,422\n",
      "Non-trainable params: 0\n",
      "_________________________________________________________________\n"
     ]
    }
   ],
   "source": [
    "model.summary()"
   ]
  },
  {
   "cell_type": "code",
   "execution_count": 19,
   "id": "9384351a",
   "metadata": {},
   "outputs": [
    {
     "data": {
      "image/png": "[encoded data removed]",
      "text/plain": [
       "<Figure size 1080x504 with 2 Axes>"
      ]
     },
     "metadata": {
      "needs_background": "light"
     },
     "output_type": "display_data"
    }
   ],
   "source": [
    "\n",
    "accuracy = model_history.history['accuracy']\n",
    "loss = model_history.history['loss']\n",
    "validation_loss = model_history.history['val_loss']\n",
    "validation_accuracy = model_history.history['val_accuracy']\n",
    "\n",
    "\n",
    "\n",
    "plt.figure(figsize=(15, 7))\n",
    "plt.subplot(2, 2, 1)\n",
    "plt.plot(range(len(accuracy)), accuracy, label='Training Accuracy')\n",
    "plt.plot(range(len(accuracy)), validation_accuracy, label='Validation Accuracy')\n",
    "plt.legend(loc='upper left')\n",
    "plt.title('Accuracy : Training Vs Validation ')\n",
    "\n",
    "\n",
    "\n",
    "plt.subplot(2, 2, 2)\n",
    "plt.plot(range(len(accuracy)), loss, label='Training Loss')\n",
    "plt.plot(range(len(accuracy)), validation_loss, label='Validation Loss')\n",
    "plt.title('Loss : Training Vs Validation ')\n",
    "plt.legend(loc='upper right')\n",
    "plt.show()\n"
   ]
  },
  {
   "cell_type": "code",
   "execution_count": 20,
   "id": "e339fa61",
   "metadata": {},
   "outputs": [],
   "source": [
    "# Image embedding\n",
    "# def get_embedding(file, model):\n",
    "#     image = mpimg.imread(file)\n",
    "#     image = test_transform(image)\n",
    "#     image = image.unsqueeze(0)\n",
    "#     model.eval()\n",
    "#     with torch.no_grad():\n",
    "#         emb, _ = model(image)\n",
    "#     return emb.numpy()"
   ]
  },
  {
   "cell_type": "code",
   "execution_count": 58,
   "id": "ff629f05",
   "metadata": {},
   "outputs": [
    {
     "data": {
      "image/png": "[encoded data removed]",
      "text/plain": [
       "<PIL.Image.Image image mode=RGB size=224x224 at 0x249CB965A00>"
      ]
     },
     "execution_count": 58,
     "metadata": {},
     "output_type": "execute_result"
    }
   ],
   "source": [
    "from tensorflow.keras.preprocessing import image\n",
    "img=image.load_img('../Geological Similarity Amazon/geological_similarity/gneiss/01KD2.jpg',target_size=(224,224))\n",
    "img2=image.load_img('../Geological Similarity Amazon/geological_similarity/andesite/6KGKG.jpg',target_size=(224,224))\n",
    "img"
   ]
  },
  {
   "cell_type": "code",
   "execution_count": 59,
   "id": "d2049616",
   "metadata": {},
   "outputs": [
    {
     "data": {
      "image/png": "[encoded data removed]",
      "text/plain": [
       "<PIL.Image.Image image mode=RGB size=224x224 at 0x249CB97BE50>"
      ]
     },
     "execution_count": 59,
     "metadata": {},
     "output_type": "execute_result"
    }
   ],
   "source": [
    "img2"
   ]
  },
  {
   "cell_type": "code",
   "execution_count": 61,
   "id": "09d6b72f",
   "metadata": {},
   "outputs": [
    {
     "data": {
      "text/plain": [
       "((224, 224, 3), (224, 224, 3))"
      ]
     },
     "execution_count": 61,
     "metadata": {},
     "output_type": "execute_result"
    }
   ],
   "source": [
    "images = np.zeros(shape=(1, 224, 224, 3))\n",
    "images2 = np.zeros(shape=(1, 224, 224, 3))\n",
    "x_raw = image.img_to_array(img)\n",
    "x_raw2 = image.img_to_array(img2)\n",
    "x_raw.shape, x_raw2.shape"
   ]
  },
  {
   "cell_type": "code",
   "execution_count": null,
   "id": "702d3ad6",
   "metadata": {},
   "outputs": [],
   "source": [
    "def img_matching(img):\n",
    "    for i in img_files:\n",
    "        x_raw_file = image.img_to_array(img)\n",
    "        x_raw_file_compare = image.img_to_array(i)\n",
    "        x_expand_file = np.expand_dims(x_raw_file, axis=0)\n",
    "        x_expand_file_compare = np.expand_dims(x_raw_file_compare, axis=0)\n",
    "        images[0, :, :, :] = x_expand_file\n",
    "        images_compare[0, :, :, :] = x_expand_file_compare\n",
    "        inputs = preprocess_input(images)\n",
    "        inputs_compare = preprocess_input(images_compare)\n",
    "        images_features = model.predict(inputs)\n",
    "        images_features_chosen = model.predict(inputs_compare)\n",
    "        \n",
    "        similarities = cosine_similarity(images_features, images_features_chosen)\n",
    "    similarities"
   ]
  },
  {
   "cell_type": "code",
   "execution_count": 51,
   "id": "28af6841",
   "metadata": {},
   "outputs": [
    {
     "data": {
      "text/plain": [
       "((1, 224, 224, 3), (1, 224, 224, 3))"
      ]
     },
     "execution_count": 51,
     "metadata": {},
     "output_type": "execute_result"
    }
   ],
   "source": [
    "#overwrite first instance of images placeholder with the image array\n",
    "x_expand = np.expand_dims(x_raw, axis=0)\n",
    "x_expand2 = np.expand_dims(x_raw2, axis=0)\n",
    "images[0, :, :, :] = x_expand\n",
    "images2[0, :, :, :] = x_expand2\n",
    "\n",
    "# preprocess your image to be able to enter the neural network\n",
    "inputs = preprocess_input(images)\n",
    "inputs2 = preprocess_input(images2)\n",
    "inputs.shape, inputs2.shape"
   ]
  },
  {
   "cell_type": "code",
   "execution_count": 52,
   "id": "0bb3118f",
   "metadata": {
    "scrolled": false
   },
   "outputs": [
    {
     "name": "stdout",
     "output_type": "stream",
     "text": [
      "(6,) (6,)\n"
     ]
    }
   ],
   "source": [
    "\n",
    "#predict image features\n",
    "images_features = model.predict(inputs)\n",
    "images_features2 = model.predict(inputs2)\n",
    "vector = images_features[0]\n",
    "vector2 = images_features2[0]\n",
    "print(vector.shape, vector2.shape)\n",
    "# (4096,)\n",
    "# print(vector)\n",
    "# [0.        0.        0.        ... 0.        1.9249601 0.8309637]"
   ]
  },
  {
   "cell_type": "code",
   "execution_count": 53,
   "id": "8b9a9f9c",
   "metadata": {},
   "outputs": [
    {
     "data": {
      "text/plain": [
       "(array([[0., 1., 0., 0., 0., 1.]], dtype=float32),\n",
       " array([[1., 0., 1., 0., 1., 1.]], dtype=float32))"
      ]
     },
     "execution_count": 53,
     "metadata": {},
     "output_type": "execute_result"
    }
   ],
   "source": [
    "images_features, images_features2"
   ]
  },
  {
   "cell_type": "code",
   "execution_count": 65,
   "id": "ff9de93d",
   "metadata": {},
   "outputs": [
    {
     "data": {
      "text/plain": [
       "35.35533845424652"
      ]
     },
     "execution_count": 65,
     "metadata": {},
     "output_type": "execute_result"
    }
   ],
   "source": [
    "similarities = cosine_similarity(images_features, images_features2)\n",
    "similarities[0][0]*100"
   ]
  },
  {
   "cell_type": "code",
   "execution_count": 55,
   "id": "a8db1b48",
   "metadata": {},
   "outputs": [
    {
     "name": "stdout",
     "output_type": "stream",
     "text": [
      "dataset length =  29999\n",
      "First 5 files: ['../Geological Similarity Amazon/geological_similarity\\\\.DS_Store']\n"
     ]
    }
   ],
   "source": [
    "# Initial files are in r'input\\raw' directory\n",
    "root_dir = '../Geological Similarity Amazon/geological_similarity'\n",
    "\n",
    "# Get all filenames in folder: \n",
    "img_files = [os.path.join(path, name) for path, subdirs, files in os.walk(root_dir) for name in files]\n",
    "print('dataset length = ', len(img_files))\n",
    "print('First 5 files:', img_files[0:1])"
   ]
  },
  {
   "cell_type": "code",
   "execution_count": 27,
   "id": "ccff4316",
   "metadata": {},
   "outputs": [
    {
     "ename": "NameError",
     "evalue": "name 'get_embedding' is not defined",
     "output_type": "error",
     "traceback": [
      "\u001b[1;31m---------------------------------------------------------------------------\u001b[0m",
      "\u001b[1;31mNameError\u001b[0m                                 Traceback (most recent call last)",
      "\u001b[1;32m<ipython-input-27-35396980563c>\u001b[0m in \u001b[0;36m<module>\u001b[1;34m\u001b[0m\n\u001b[0;32m      4\u001b[0m \u001b[1;33m\u001b[0m\u001b[0m\n\u001b[0;32m      5\u001b[0m \u001b[1;31m# Get the embedding for this image\u001b[0m\u001b[1;33m\u001b[0m\u001b[1;33m\u001b[0m\u001b[1;33m\u001b[0m\u001b[0m\n\u001b[1;32m----> 6\u001b[1;33m \u001b[0memb\u001b[0m \u001b[1;33m=\u001b[0m \u001b[0mget_embedding\u001b[0m\u001b[1;33m(\u001b[0m\u001b[0mrandom_file\u001b[0m\u001b[1;33m,\u001b[0m \u001b[0mmodel\u001b[0m\u001b[1;33m=\u001b[0m\u001b[0mmodel\u001b[0m\u001b[1;33m)\u001b[0m\u001b[1;33m\u001b[0m\u001b[1;33m\u001b[0m\u001b[0m\n\u001b[0m\u001b[0;32m      7\u001b[0m \u001b[1;33m\u001b[0m\u001b[0m\n\u001b[0;32m      8\u001b[0m \u001b[0mprint\u001b[0m\u001b[1;33m(\u001b[0m\u001b[0mrandom_file\u001b[0m\u001b[1;33m)\u001b[0m\u001b[1;33m\u001b[0m\u001b[1;33m\u001b[0m\u001b[0m\n",
      "\u001b[1;31mNameError\u001b[0m: name 'get_embedding' is not defined"
     ]
    }
   ],
   "source": [
    "# Select random test images\n",
    "# Select random image from test\n",
    "random_file = random.choice(img_files)\n",
    "\n",
    "# Get the embedding for this image\n",
    "emb = get_embedding(random_file, model=model)\n",
    "\n",
    "print(random_file)\n",
    "plt.rcParams[\"figure.figsize\"] = (3,3)\n",
    "image = mpimg.imread(random_file)\n",
    "plt.imshow(image)\n",
    "plt.show()"
   ]
  },
  {
   "cell_type": "code",
   "execution_count": null,
   "id": "3b397461",
   "metadata": {},
   "outputs": [],
   "source": [
    "# Calculate the image embeddings\n",
    "%%time\n",
    "image_embeddings = np.zeros((len(img_files), 128))\n",
    "for idx, file in enumerate(img_files):\n",
    "    image_embeddings[idx] = get_embedding(file, model=model)\n",
    "print(image_embeddings.shape)"
   ]
  },
  {
   "cell_type": "code",
   "execution_count": null,
   "id": "498fd030",
   "metadata": {},
   "outputs": [],
   "source": [
    "# Preview K most similar images to the selected one\n",
    "similarities = cosine_similarity(emb, image_embeddings)\n",
    "# Select top n-similar file indeces\n",
    "K=5\n",
    "ids = np.flip(similarities.argsort()[0])[0:K]\n",
    "\n",
    "for index in ids:\n",
    "    image = img_files[index]\n",
    "    print(image)\n",
    "    image = mpimg.imread(image)\n",
    "    plt.imshow(image)\n",
    "    plt.show()"
   ]
  },
  {
   "cell_type": "code",
   "execution_count": null,
   "id": "a424c84e",
   "metadata": {},
   "outputs": [],
   "source": [
    "model.summary()"
   ]
  },
  {
   "cell_type": "code",
   "execution_count": null,
   "id": "1b6ddde4",
   "metadata": {},
   "outputs": [],
   "source": [
    "# Building VGG19\n",
    "def vgg19_model(df, train, test):\n",
    "    x_train =  train_datagen.flow_from_dataframe(dataframe = train,  x_col='Image_Path', y_col='Labels',  class_mode='binary',target_size=(224,224), shuffle=False, batch_size=10, seed=10, subset='training')\n",
    "    x_test = test_datagen.flow_from_dataframe(dataframe = test,  x_col='Image_Path', y_col='Labels',class_mode='binary',  target_size=(224,224), shuffle=False, batch_size=10, seed=10, subset='validation')\n",
    "    \n",
    "    vgg19_model = VGG19(input_shape=(224,224,3), weights='imagenet',include_top=False)\n",
    "    model=Sequential()\n",
    "    model.add(vgg19_model)\n",
    "    model.add(Flatten())\n",
    "    model.add(Dense(1024,activation='relu'))\n",
    "    model.add(Dropout(0.5))\n",
    "    model.add(Dense(1,activation='sigmoid'))\n",
    "    model.compile(optimizer=keras.optimizers.RMSprop(lr=1e-4),loss='binary_crossentropy',metrics=['accuracy'])\n",
    "    \n",
    "    model_history = model.fit(\n",
    "    x_train,\n",
    "    steps_per_epoch=100,\n",
    "    validation_data=x_test,\n",
    "    validation_steps=100, \n",
    "    epochs = 4)\n",
    "    \n",
    "    return model_history\n",
    "    \n",
    "plot_loss_and_accuracy(vgg19_model(df, train, test))"
   ]
  }
 ],
 "metadata": {
  "kernelspec": {
   "display_name": "Python 3",
   "language": "python",
   "name": "python3"
  },
  "language_info": {
   "codemirror_mode": {
    "name": "ipython",
    "version": 3
   },
   "file_extension": ".py",
   "mimetype": "text/x-python",
   "name": "python",
   "nbconvert_exporter": "python",
   "pygments_lexer": "ipython3",
   "version": "3.8.8"
  }
 },
 "nbformat": 4,
 "nbformat_minor": 5
}
